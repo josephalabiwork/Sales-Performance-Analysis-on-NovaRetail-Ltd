{
 "cells": [
  {
   "cell_type": "code",
   "execution_count": 14,
   "id": "acbea4ff-cadd-4f03-8b5a-0aa1e637302c",
   "metadata": {},
   "outputs": [],
   "source": [
    "import pandas as pd\n",
    "import numpy as np\n",
    "import matplotlib.pyplot as plt"
   ]
  },
  {
   "cell_type": "code",
   "execution_count": 15,
   "id": "31d3762b-c371-4866-8cd1-b2f9cfffc61c",
   "metadata": {},
   "outputs": [],
   "source": [
    "sales=pd.read_csv('sales_transactions.csv')"
   ]
  },
  {
   "cell_type": "code",
   "execution_count": 16,
   "id": "0cb0f457-5d93-49b8-bf30-164d3ad8ccfa",
   "metadata": {},
   "outputs": [
    {
     "data": {
      "text/html": [
       "<div>\n",
       "<style scoped>\n",
       "    .dataframe tbody tr th:only-of-type {\n",
       "        vertical-align: middle;\n",
       "    }\n",
       "\n",
       "    .dataframe tbody tr th {\n",
       "        vertical-align: top;\n",
       "    }\n",
       "\n",
       "    .dataframe thead th {\n",
       "        text-align: right;\n",
       "    }\n",
       "</style>\n",
       "<table border=\"1\" class=\"dataframe\">\n",
       "  <thead>\n",
       "    <tr style=\"text-align: right;\">\n",
       "      <th></th>\n",
       "      <th>TransactionID</th>\n",
       "      <th>Date</th>\n",
       "      <th>City</th>\n",
       "      <th>CustomerID</th>\n",
       "      <th>CustomerType</th>\n",
       "      <th>Category</th>\n",
       "      <th>UnitsSold</th>\n",
       "      <th>UnitPrice</th>\n",
       "      <th>Revenue</th>\n",
       "      <th>Discount</th>\n",
       "      <th>SalesRep</th>\n",
       "    </tr>\n",
       "  </thead>\n",
       "  <tbody>\n",
       "    <tr>\n",
       "      <th>0</th>\n",
       "      <td>T001</td>\n",
       "      <td>2024-01-15</td>\n",
       "      <td>Lagos</td>\n",
       "      <td>C001</td>\n",
       "      <td>New</td>\n",
       "      <td>Electronics</td>\n",
       "      <td>2</td>\n",
       "      <td>150000</td>\n",
       "      <td>300000</td>\n",
       "      <td>5000</td>\n",
       "      <td>Chuka Obasi</td>\n",
       "    </tr>\n",
       "    <tr>\n",
       "      <th>1</th>\n",
       "      <td>T002</td>\n",
       "      <td>2024-01-18</td>\n",
       "      <td>Abuja</td>\n",
       "      <td>C002</td>\n",
       "      <td>Returning</td>\n",
       "      <td>Appliances</td>\n",
       "      <td>1</td>\n",
       "      <td>85000</td>\n",
       "      <td>85000</td>\n",
       "      <td>0</td>\n",
       "      <td>Mary Felix</td>\n",
       "    </tr>\n",
       "    <tr>\n",
       "      <th>2</th>\n",
       "      <td>T003</td>\n",
       "      <td>2024-01-20</td>\n",
       "      <td>Port Harcourt</td>\n",
       "      <td>C003</td>\n",
       "      <td>New</td>\n",
       "      <td>Accessories</td>\n",
       "      <td>4</td>\n",
       "      <td>5000</td>\n",
       "      <td>20000</td>\n",
       "      <td>200</td>\n",
       "      <td>Abdul Salim</td>\n",
       "    </tr>\n",
       "    <tr>\n",
       "      <th>3</th>\n",
       "      <td>T004</td>\n",
       "      <td>2024-01-21</td>\n",
       "      <td>Lagos</td>\n",
       "      <td>C004</td>\n",
       "      <td>Returning</td>\n",
       "      <td>Electronics</td>\n",
       "      <td>1</td>\n",
       "      <td>160000</td>\n",
       "      <td>160000</td>\n",
       "      <td>3000</td>\n",
       "      <td>Chuka Obasi</td>\n",
       "    </tr>\n",
       "    <tr>\n",
       "      <th>4</th>\n",
       "      <td>T005</td>\n",
       "      <td>2024-02-01</td>\n",
       "      <td>Kano</td>\n",
       "      <td>C005</td>\n",
       "      <td>New</td>\n",
       "      <td>Appliances</td>\n",
       "      <td>2</td>\n",
       "      <td>90000</td>\n",
       "      <td>180000</td>\n",
       "      <td>4000</td>\n",
       "      <td>Mary Felix</td>\n",
       "    </tr>\n",
       "    <tr>\n",
       "      <th>...</th>\n",
       "      <td>...</td>\n",
       "      <td>...</td>\n",
       "      <td>...</td>\n",
       "      <td>...</td>\n",
       "      <td>...</td>\n",
       "      <td>...</td>\n",
       "      <td>...</td>\n",
       "      <td>...</td>\n",
       "      <td>...</td>\n",
       "      <td>...</td>\n",
       "      <td>...</td>\n",
       "    </tr>\n",
       "    <tr>\n",
       "      <th>105</th>\n",
       "      <td>T106</td>\n",
       "      <td>2024-03-05</td>\n",
       "      <td>Lagos</td>\n",
       "      <td>C046</td>\n",
       "      <td>New</td>\n",
       "      <td>Electronics</td>\n",
       "      <td>2</td>\n",
       "      <td>155000</td>\n",
       "      <td>310000</td>\n",
       "      <td>500</td>\n",
       "      <td>Abdul Salim</td>\n",
       "    </tr>\n",
       "    <tr>\n",
       "      <th>106</th>\n",
       "      <td>T107</td>\n",
       "      <td>2024-10-23</td>\n",
       "      <td>Port Harcourt</td>\n",
       "      <td>C061</td>\n",
       "      <td>Returning</td>\n",
       "      <td>Electronics</td>\n",
       "      <td>2</td>\n",
       "      <td>155000</td>\n",
       "      <td>310000</td>\n",
       "      <td>4000</td>\n",
       "      <td>Mary Felix</td>\n",
       "    </tr>\n",
       "    <tr>\n",
       "      <th>107</th>\n",
       "      <td>T108</td>\n",
       "      <td>2024-09-08</td>\n",
       "      <td>Port Harcourt</td>\n",
       "      <td>C070</td>\n",
       "      <td>New</td>\n",
       "      <td>Accessories</td>\n",
       "      <td>1</td>\n",
       "      <td>5500</td>\n",
       "      <td>5500</td>\n",
       "      <td>500</td>\n",
       "      <td>Mary Felix</td>\n",
       "    </tr>\n",
       "    <tr>\n",
       "      <th>108</th>\n",
       "      <td>T109</td>\n",
       "      <td>2024-02-10</td>\n",
       "      <td>Kano</td>\n",
       "      <td>C135</td>\n",
       "      <td>New</td>\n",
       "      <td>Electronics</td>\n",
       "      <td>2</td>\n",
       "      <td>150000</td>\n",
       "      <td>300000</td>\n",
       "      <td>200</td>\n",
       "      <td>Chuka Obasi</td>\n",
       "    </tr>\n",
       "    <tr>\n",
       "      <th>109</th>\n",
       "      <td>T110</td>\n",
       "      <td>2024-11-08</td>\n",
       "      <td>Lagos</td>\n",
       "      <td>C113</td>\n",
       "      <td>New</td>\n",
       "      <td>Electronics</td>\n",
       "      <td>2</td>\n",
       "      <td>162000</td>\n",
       "      <td>324000</td>\n",
       "      <td>7000</td>\n",
       "      <td>Mary Felix</td>\n",
       "    </tr>\n",
       "  </tbody>\n",
       "</table>\n",
       "<p>110 rows × 11 columns</p>\n",
       "</div>"
      ],
      "text/plain": [
       "    TransactionID        Date           City CustomerID CustomerType  \\\n",
       "0            T001  2024-01-15          Lagos       C001          New   \n",
       "1            T002  2024-01-18          Abuja       C002    Returning   \n",
       "2            T003  2024-01-20  Port Harcourt       C003          New   \n",
       "3            T004  2024-01-21          Lagos       C004    Returning   \n",
       "4            T005  2024-02-01           Kano       C005          New   \n",
       "..            ...         ...            ...        ...          ...   \n",
       "105          T106  2024-03-05          Lagos       C046          New   \n",
       "106          T107  2024-10-23  Port Harcourt       C061    Returning   \n",
       "107          T108  2024-09-08  Port Harcourt       C070          New   \n",
       "108          T109  2024-02-10           Kano       C135          New   \n",
       "109          T110  2024-11-08          Lagos       C113          New   \n",
       "\n",
       "        Category  UnitsSold  UnitPrice  Revenue  Discount     SalesRep  \n",
       "0    Electronics          2     150000   300000      5000  Chuka Obasi  \n",
       "1     Appliances          1      85000    85000         0   Mary Felix  \n",
       "2    Accessories          4       5000    20000       200  Abdul Salim  \n",
       "3    Electronics          1     160000   160000      3000  Chuka Obasi  \n",
       "4     Appliances          2      90000   180000      4000   Mary Felix  \n",
       "..           ...        ...        ...      ...       ...          ...  \n",
       "105  Electronics          2     155000   310000       500  Abdul Salim  \n",
       "106  Electronics          2     155000   310000      4000   Mary Felix  \n",
       "107  Accessories          1       5500     5500       500   Mary Felix  \n",
       "108  Electronics          2     150000   300000       200  Chuka Obasi  \n",
       "109  Electronics          2     162000   324000      7000   Mary Felix  \n",
       "\n",
       "[110 rows x 11 columns]"
      ]
     },
     "execution_count": 16,
     "metadata": {},
     "output_type": "execute_result"
    }
   ],
   "source": [
    "sales"
   ]
  },
  {
   "cell_type": "code",
   "execution_count": 17,
   "id": "5794707a-addd-473c-944c-7443fabcbe1b",
   "metadata": {},
   "outputs": [
    {
     "data": {
      "text/plain": [
       "Index(['TransactionID', 'Date', 'City', 'CustomerID', 'CustomerType',\n",
       "       'Category', 'UnitsSold', 'UnitPrice', 'Revenue', 'Discount',\n",
       "       'SalesRep'],\n",
       "      dtype='object')"
      ]
     },
     "execution_count": 17,
     "metadata": {},
     "output_type": "execute_result"
    }
   ],
   "source": [
    "sales.columns    "
   ]
  },
  {
   "cell_type": "code",
   "execution_count": 18,
   "id": "97f82a78-c8ba-4dfe-a23b-20fb93c18230",
   "metadata": {},
   "outputs": [
    {
     "data": {
      "text/plain": [
       "(110, 11)"
      ]
     },
     "execution_count": 18,
     "metadata": {},
     "output_type": "execute_result"
    }
   ],
   "source": [
    "sales.shape"
   ]
  },
  {
   "cell_type": "code",
   "execution_count": 19,
   "id": "7c247270-0d45-427c-9f21-1e93a05e17f8",
   "metadata": {},
   "outputs": [
    {
     "data": {
      "text/plain": [
       "TransactionID    0\n",
       "Date             0\n",
       "City             0\n",
       "CustomerID       0\n",
       "CustomerType     0\n",
       "Category         0\n",
       "UnitsSold        0\n",
       "UnitPrice        0\n",
       "Revenue          0\n",
       "Discount         0\n",
       "SalesRep         0\n",
       "dtype: int64"
      ]
     },
     "execution_count": 19,
     "metadata": {},
     "output_type": "execute_result"
    }
   ],
   "source": [
    "sales.isnull().sum()"
   ]
  },
  {
   "cell_type": "code",
   "execution_count": 20,
   "id": "103f684e-16af-4296-b585-5c90542c58a8",
   "metadata": {},
   "outputs": [
    {
     "data": {
      "text/plain": [
       "np.int64(0)"
      ]
     },
     "execution_count": 20,
     "metadata": {},
     "output_type": "execute_result"
    }
   ],
   "source": [
    "sales.duplicated().sum()"
   ]
  },
  {
   "cell_type": "markdown",
   "id": "695454ea-e2cb-4b15-ab4d-c18d448ab6ed",
   "metadata": {},
   "source": [
    "# total revenue"
   ]
  },
  {
   "cell_type": "code",
   "execution_count": 21,
   "id": "a10c42df-4fc5-492a-b483-29061b5905ab",
   "metadata": {},
   "outputs": [
    {
     "name": "stdout",
     "output_type": "stream",
     "text": [
      "the total revenue is ₦29,521,000\n"
     ]
    }
   ],
   "source": [
    "##total revenue\n",
    "total_revenue=sales['Revenue'].sum()\n",
    "print(f\"the total revenue is ₦{total_revenue:,.0f}\")\n"
   ]
  },
  {
   "cell_type": "markdown",
   "id": "a311bb31-d4a6-4100-ae8f-7a48fa92cf7f",
   "metadata": {},
   "source": [
    "# number of transactions recorded"
   ]
  },
  {
   "cell_type": "code",
   "execution_count": 22,
   "id": "0f6dab0e-4da5-41dc-b0f1-63c44fd38a09",
   "metadata": {},
   "outputs": [
    {
     "data": {
      "text/plain": [
       "110"
      ]
     },
     "execution_count": 22,
     "metadata": {},
     "output_type": "execute_result"
    }
   ],
   "source": [
    "## number of transactions recorded\n",
    "len(sales['TransactionID'])\n"
   ]
  },
  {
   "cell_type": "code",
   "execution_count": 23,
   "id": "4b3fec10-e4a7-4c74-bf0c-49ebba1b4962",
   "metadata": {},
   "outputs": [
    {
     "data": {
      "text/plain": [
       "77"
      ]
     },
     "execution_count": 23,
     "metadata": {},
     "output_type": "execute_result"
    }
   ],
   "source": [
    "## how many distinct customers made purchases\n",
    "distinct_customer=sales['CustomerID'].nunique()\n",
    "distinct_customer\n"
   ]
  },
  {
   "cell_type": "markdown",
   "id": "88ba31dd-558c-4427-9001-23d32cb11196",
   "metadata": {},
   "source": [
    "# What is the total revenue generated from Lagos alone?"
   ]
  },
  {
   "cell_type": "code",
   "execution_count": 24,
   "id": "a0e74d20-7c72-4ab7-8684-fecf1edb1ca4",
   "metadata": {},
   "outputs": [
    {
     "name": "stdout",
     "output_type": "stream",
     "text": [
      "Lagos: ₦9,285,500\n"
     ]
    }
   ],
   "source": [
    "##What is the total revenue generated from Lagos alone?\n",
    "revenue_lagos = sales[sales['City'] == 'Lagos']['Revenue'].sum()\n",
    "print(f\"Lagos: ₦{revenue_lagos:,.0f}\")"
   ]
  },
  {
   "cell_type": "markdown",
   "id": "cbad54fc-6f1b-4746-bc8f-0e05b153664c",
   "metadata": {},
   "source": [
    "# How many units of \"Accessories\" were sold in Abuja?"
   ]
  },
  {
   "cell_type": "code",
   "execution_count": 44,
   "id": "1ea38e22-039b-4c94-ad65-70ca840abd68",
   "metadata": {},
   "outputs": [
    {
     "data": {
      "text/plain": [
       "Category     City         \n",
       "Accessories  Abuja             7\n",
       "             Kano              7\n",
       "             Lagos             7\n",
       "             Port Harcourt    17\n",
       "Appliances   Abuja             9\n",
       "             Kano             10\n",
       "             Lagos             8\n",
       "             Port Harcourt     6\n",
       "Electronics  Abuja             4\n",
       "             Kano             12\n",
       "             Lagos            13\n",
       "             Port Harcourt    10\n",
       "Name: UnitsSold, dtype: int64"
      ]
     },
     "execution_count": 44,
     "metadata": {},
     "output_type": "execute_result"
    }
   ],
   "source": [
    "abuja_accessories = sales[(sales['City'] == 'Abuja') & (sales['Category'] == 'Accessories')]['UnitsSold'].count()\n",
    "abuja_accessories\n",
    "\n",
    "\n",
    "## corrections \n",
    "sales.groupby(['Category','City'])['UnitsSold'].count()"
   ]
  },
  {
   "cell_type": "markdown",
   "id": "a85d2763-9c19-4612-93ce-9f0c53eae2d3",
   "metadata": {},
   "source": [
    "# What is the average discount offered across all transactions?"
   ]
  },
  {
   "cell_type": "code",
   "execution_count": null,
   "id": "d2f03ae0-e523-41bc-a923-c053b0b3ea75",
   "metadata": {},
   "outputs": [],
   "source": [
    "discount=sales['Discount'].mean()\n",
    "print(f\"₦{discount:,.0f}\")"
   ]
  },
  {
   "cell_type": "markdown",
   "id": "6d8a1292-2a8b-4a10-9cad-868db0f47210",
   "metadata": {},
   "source": [
    "# converting date dtypes to datetime"
   ]
  },
  {
   "cell_type": "code",
   "execution_count": null,
   "id": "bfa62a2e-2fa7-400a-bdc8-45376ebc26ca",
   "metadata": {},
   "outputs": [],
   "source": [
    "sales.dtypes"
   ]
  },
  {
   "cell_type": "code",
   "execution_count": null,
   "id": "9509e896-deca-4aee-b91f-18a5a90e7cd9",
   "metadata": {},
   "outputs": [],
   "source": [
    "sales['Date']=pd.to_datetime(sales['Date'])"
   ]
  },
  {
   "cell_type": "code",
   "execution_count": null,
   "id": "ef49d2fc-332b-47c1-8d5e-d5386c3949b1",
   "metadata": {},
   "outputs": [],
   "source": [
    "sales.dtypes"
   ]
  },
  {
   "cell_type": "markdown",
   "id": "d664530b-d736-4f0f-905f-97132b76dfe1",
   "metadata": {},
   "source": [
    " # What was the revenue for February 2024?"
   ]
  },
  {
   "cell_type": "code",
   "execution_count": null,
   "id": "09c02f6f-8cfa-4908-b43e-35f35e717d4e",
   "metadata": {},
   "outputs": [],
   "source": [
    "feb_revenue = sales[\n",
    "    (sales['Date'].dt.month == 2) & \n",
    "    (sales['Date'].dt.year == 2024)\n",
    "]['Revenue'].sum()\n",
    "\n",
    "print(f\"₦{int(feb_revenue):,}\")"
   ]
  },
  {
   "cell_type": "markdown",
   "id": "765eae9c-b97c-4cfc-bb50-813ae29f3710",
   "metadata": {},
   "source": [
    "# Which month had the highest sales revenue?"
   ]
  },
  {
   "cell_type": "code",
   "execution_count": null,
   "id": "17a75734-0117-461a-b4d4-fb7d1ec0beee",
   "metadata": {},
   "outputs": [],
   "source": [
    "# Extract month name\n",
    "sales['Month'] = sales['Date'].dt.month_name()\n",
    "\n",
    "# Group by month and sum revenue\n",
    "monthly_revenue = (\n",
    "    sales.groupby('Month')['Revenue']\n",
    "    .sum()\n",
    "    .reset_index(name='TotalRevenue')\n",
    ")\n",
    "\n",
    "# Get the row with the highest revenue\n",
    "highest_month = monthly_revenue.loc[monthly_revenue['TotalRevenue'].idxmax()]\n",
    "\n",
    "# Display just the month and revenue \n",
    "print(f\"{highest_month['Month']}: ₦{int(highest_month['TotalRevenue']):,}\")"
   ]
  },
  {
   "cell_type": "markdown",
   "id": "ad294799-c296-4cc0-8901-f098a0b7f0fb",
   "metadata": {},
   "source": [
    "# Create a measure to calculate monthly revenue trend"
   ]
  },
  {
   "cell_type": "code",
   "execution_count": null,
   "id": "4b31f7da-5859-48b4-9cfc-8561551b4c58",
   "metadata": {},
   "outputs": [],
   "source": [
    "monthly_trend = monthly_revenue.reset_index().rename(columns={\"Date\": \"Month\", \"Revenue\": \"MonthlyRevenue\"})\n",
    "monthly_trend"
   ]
  },
  {
   "cell_type": "code",
   "execution_count": null,
   "id": "097a33dd-00a7-4a21-856a-6f2d916e54f2",
   "metadata": {},
   "outputs": [],
   "source": [
    " # What is the revenue split between New and Returning customers?"
   ]
  },
  {
   "cell_type": "code",
   "execution_count": null,
   "id": "1fe2b16f-860b-47a6-8bbe-961bc26ca7fe",
   "metadata": {},
   "outputs": [],
   "source": [
    "sales.groupby('CustomerType')['Revenue'].sum().reset_index()"
   ]
  },
  {
   "cell_type": "markdown",
   "id": "bc73b831-1f1e-49fc-bb8b-a0589650c8a9",
   "metadata": {},
   "source": [
    "# What is the average revenue per customer?"
   ]
  },
  {
   "cell_type": "code",
   "execution_count": null,
   "id": "482f980d-645b-4433-bb6f-b396589b57c3",
   "metadata": {},
   "outputs": [],
   "source": [
    "sales.groupby('CustomerID')['Revenue'].mean().reset_index()"
   ]
  },
  {
   "cell_type": "markdown",
   "id": "4b7e001e-f3ff-44c4-a586-bb710036c43d",
   "metadata": {},
   "source": [
    "# How many customers bought more than once?"
   ]
  },
  {
   "cell_type": "code",
   "execution_count": null,
   "id": "4fe0c6ba-3cf6-4b5b-8628-a16db443ac07",
   "metadata": {},
   "outputs": [],
   "source": [
    "## to count \n",
    "customers_counts=sales['CustomerID'].value_counts()\n",
    "customers_counts = (customers_counts > 1).sum()\n",
    "customers_counts\n"
   ]
  },
  {
   "cell_type": "markdown",
   "id": "b80bdbd9-8e53-431b-97b8-31dc38369218",
   "metadata": {},
   "source": [
    "# product category with most revenue"
   ]
  },
  {
   "cell_type": "code",
   "execution_count": null,
   "id": "edf68153-261a-42d0-bd49-49c3bf0a6d2e",
   "metadata": {},
   "outputs": [],
   "source": [
    "product=sales.groupby('Category')['Revenue'].sum().sort_values(ascending=False).nlargest(1)\n",
    "product"
   ]
  },
  {
   "cell_type": "markdown",
   "id": "e54bc96f-4119-4c00-b641-50ff18dd8d62",
   "metadata": {},
   "source": [
    "# What is the average revenue per unit for Electronics?"
   ]
  },
  {
   "cell_type": "code",
   "execution_count": null,
   "id": "d30106db-ecdf-431d-8021-32730a34bfb8",
   "metadata": {},
   "outputs": [],
   "source": [
    "electronics = sales[sales[\"Category\"] == \"Electronics\"]\n",
    "avg_revenue_per_unit_electronics = electronics[\"Revenue\"].sum() / electronics[\"UnitsSold\"].sum()\n",
    "avg_revenue_per_unit_electronics\n",
    "print(f\"₦{avg_revenue_per_unit_electronics:,.0f}\")"
   ]
  },
  {
   "cell_type": "code",
   "execution_count": null,
   "id": "e4c7e281-cc7d-4862-ad1c-c9396e68ab13",
   "metadata": {},
   "outputs": [],
   "source": [
    "sales"
   ]
  },
  {
   "cell_type": "markdown",
   "id": "88697146-5a00-4260-a3cc-287811479059",
   "metadata": {},
   "source": [
    "# creating a new column to calculate for net revenue"
   ]
  },
  {
   "cell_type": "code",
   "execution_count": 27,
   "id": "5d117b66-acc7-4dc7-913c-274db23c7d55",
   "metadata": {},
   "outputs": [],
   "source": [
    "sales['NetRevenue']=sales['Revenue']-sales['Discount']"
   ]
  },
  {
   "cell_type": "code",
   "execution_count": 28,
   "id": "0bed4dfe-91bc-4515-afda-6fdbfc82cbda",
   "metadata": {},
   "outputs": [
    {
     "data": {
      "text/html": [
       "<div>\n",
       "<style scoped>\n",
       "    .dataframe tbody tr th:only-of-type {\n",
       "        vertical-align: middle;\n",
       "    }\n",
       "\n",
       "    .dataframe tbody tr th {\n",
       "        vertical-align: top;\n",
       "    }\n",
       "\n",
       "    .dataframe thead th {\n",
       "        text-align: right;\n",
       "    }\n",
       "</style>\n",
       "<table border=\"1\" class=\"dataframe\">\n",
       "  <thead>\n",
       "    <tr style=\"text-align: right;\">\n",
       "      <th></th>\n",
       "      <th>TransactionID</th>\n",
       "      <th>Date</th>\n",
       "      <th>City</th>\n",
       "      <th>CustomerID</th>\n",
       "      <th>CustomerType</th>\n",
       "      <th>Category</th>\n",
       "      <th>UnitsSold</th>\n",
       "      <th>UnitPrice</th>\n",
       "      <th>Revenue</th>\n",
       "      <th>Discount</th>\n",
       "      <th>SalesRep</th>\n",
       "      <th>NetRevenue</th>\n",
       "    </tr>\n",
       "  </thead>\n",
       "  <tbody>\n",
       "    <tr>\n",
       "      <th>0</th>\n",
       "      <td>T001</td>\n",
       "      <td>2024-01-15</td>\n",
       "      <td>Lagos</td>\n",
       "      <td>C001</td>\n",
       "      <td>New</td>\n",
       "      <td>Electronics</td>\n",
       "      <td>2</td>\n",
       "      <td>150000</td>\n",
       "      <td>300000</td>\n",
       "      <td>5000</td>\n",
       "      <td>Chuka Obasi</td>\n",
       "      <td>295000</td>\n",
       "    </tr>\n",
       "    <tr>\n",
       "      <th>1</th>\n",
       "      <td>T002</td>\n",
       "      <td>2024-01-18</td>\n",
       "      <td>Abuja</td>\n",
       "      <td>C002</td>\n",
       "      <td>Returning</td>\n",
       "      <td>Appliances</td>\n",
       "      <td>1</td>\n",
       "      <td>85000</td>\n",
       "      <td>85000</td>\n",
       "      <td>0</td>\n",
       "      <td>Mary Felix</td>\n",
       "      <td>85000</td>\n",
       "    </tr>\n",
       "    <tr>\n",
       "      <th>2</th>\n",
       "      <td>T003</td>\n",
       "      <td>2024-01-20</td>\n",
       "      <td>Port Harcourt</td>\n",
       "      <td>C003</td>\n",
       "      <td>New</td>\n",
       "      <td>Accessories</td>\n",
       "      <td>4</td>\n",
       "      <td>5000</td>\n",
       "      <td>20000</td>\n",
       "      <td>200</td>\n",
       "      <td>Abdul Salim</td>\n",
       "      <td>19800</td>\n",
       "    </tr>\n",
       "    <tr>\n",
       "      <th>3</th>\n",
       "      <td>T004</td>\n",
       "      <td>2024-01-21</td>\n",
       "      <td>Lagos</td>\n",
       "      <td>C004</td>\n",
       "      <td>Returning</td>\n",
       "      <td>Electronics</td>\n",
       "      <td>1</td>\n",
       "      <td>160000</td>\n",
       "      <td>160000</td>\n",
       "      <td>3000</td>\n",
       "      <td>Chuka Obasi</td>\n",
       "      <td>157000</td>\n",
       "    </tr>\n",
       "    <tr>\n",
       "      <th>4</th>\n",
       "      <td>T005</td>\n",
       "      <td>2024-02-01</td>\n",
       "      <td>Kano</td>\n",
       "      <td>C005</td>\n",
       "      <td>New</td>\n",
       "      <td>Appliances</td>\n",
       "      <td>2</td>\n",
       "      <td>90000</td>\n",
       "      <td>180000</td>\n",
       "      <td>4000</td>\n",
       "      <td>Mary Felix</td>\n",
       "      <td>176000</td>\n",
       "    </tr>\n",
       "    <tr>\n",
       "      <th>...</th>\n",
       "      <td>...</td>\n",
       "      <td>...</td>\n",
       "      <td>...</td>\n",
       "      <td>...</td>\n",
       "      <td>...</td>\n",
       "      <td>...</td>\n",
       "      <td>...</td>\n",
       "      <td>...</td>\n",
       "      <td>...</td>\n",
       "      <td>...</td>\n",
       "      <td>...</td>\n",
       "      <td>...</td>\n",
       "    </tr>\n",
       "    <tr>\n",
       "      <th>105</th>\n",
       "      <td>T106</td>\n",
       "      <td>2024-03-05</td>\n",
       "      <td>Lagos</td>\n",
       "      <td>C046</td>\n",
       "      <td>New</td>\n",
       "      <td>Electronics</td>\n",
       "      <td>2</td>\n",
       "      <td>155000</td>\n",
       "      <td>310000</td>\n",
       "      <td>500</td>\n",
       "      <td>Abdul Salim</td>\n",
       "      <td>309500</td>\n",
       "    </tr>\n",
       "    <tr>\n",
       "      <th>106</th>\n",
       "      <td>T107</td>\n",
       "      <td>2024-10-23</td>\n",
       "      <td>Port Harcourt</td>\n",
       "      <td>C061</td>\n",
       "      <td>Returning</td>\n",
       "      <td>Electronics</td>\n",
       "      <td>2</td>\n",
       "      <td>155000</td>\n",
       "      <td>310000</td>\n",
       "      <td>4000</td>\n",
       "      <td>Mary Felix</td>\n",
       "      <td>306000</td>\n",
       "    </tr>\n",
       "    <tr>\n",
       "      <th>107</th>\n",
       "      <td>T108</td>\n",
       "      <td>2024-09-08</td>\n",
       "      <td>Port Harcourt</td>\n",
       "      <td>C070</td>\n",
       "      <td>New</td>\n",
       "      <td>Accessories</td>\n",
       "      <td>1</td>\n",
       "      <td>5500</td>\n",
       "      <td>5500</td>\n",
       "      <td>500</td>\n",
       "      <td>Mary Felix</td>\n",
       "      <td>5000</td>\n",
       "    </tr>\n",
       "    <tr>\n",
       "      <th>108</th>\n",
       "      <td>T109</td>\n",
       "      <td>2024-02-10</td>\n",
       "      <td>Kano</td>\n",
       "      <td>C135</td>\n",
       "      <td>New</td>\n",
       "      <td>Electronics</td>\n",
       "      <td>2</td>\n",
       "      <td>150000</td>\n",
       "      <td>300000</td>\n",
       "      <td>200</td>\n",
       "      <td>Chuka Obasi</td>\n",
       "      <td>299800</td>\n",
       "    </tr>\n",
       "    <tr>\n",
       "      <th>109</th>\n",
       "      <td>T110</td>\n",
       "      <td>2024-11-08</td>\n",
       "      <td>Lagos</td>\n",
       "      <td>C113</td>\n",
       "      <td>New</td>\n",
       "      <td>Electronics</td>\n",
       "      <td>2</td>\n",
       "      <td>162000</td>\n",
       "      <td>324000</td>\n",
       "      <td>7000</td>\n",
       "      <td>Mary Felix</td>\n",
       "      <td>317000</td>\n",
       "    </tr>\n",
       "  </tbody>\n",
       "</table>\n",
       "<p>110 rows × 12 columns</p>\n",
       "</div>"
      ],
      "text/plain": [
       "    TransactionID        Date           City CustomerID CustomerType  \\\n",
       "0            T001  2024-01-15          Lagos       C001          New   \n",
       "1            T002  2024-01-18          Abuja       C002    Returning   \n",
       "2            T003  2024-01-20  Port Harcourt       C003          New   \n",
       "3            T004  2024-01-21          Lagos       C004    Returning   \n",
       "4            T005  2024-02-01           Kano       C005          New   \n",
       "..            ...         ...            ...        ...          ...   \n",
       "105          T106  2024-03-05          Lagos       C046          New   \n",
       "106          T107  2024-10-23  Port Harcourt       C061    Returning   \n",
       "107          T108  2024-09-08  Port Harcourt       C070          New   \n",
       "108          T109  2024-02-10           Kano       C135          New   \n",
       "109          T110  2024-11-08          Lagos       C113          New   \n",
       "\n",
       "        Category  UnitsSold  UnitPrice  Revenue  Discount     SalesRep  \\\n",
       "0    Electronics          2     150000   300000      5000  Chuka Obasi   \n",
       "1     Appliances          1      85000    85000         0   Mary Felix   \n",
       "2    Accessories          4       5000    20000       200  Abdul Salim   \n",
       "3    Electronics          1     160000   160000      3000  Chuka Obasi   \n",
       "4     Appliances          2      90000   180000      4000   Mary Felix   \n",
       "..           ...        ...        ...      ...       ...          ...   \n",
       "105  Electronics          2     155000   310000       500  Abdul Salim   \n",
       "106  Electronics          2     155000   310000      4000   Mary Felix   \n",
       "107  Accessories          1       5500     5500       500   Mary Felix   \n",
       "108  Electronics          2     150000   300000       200  Chuka Obasi   \n",
       "109  Electronics          2     162000   324000      7000   Mary Felix   \n",
       "\n",
       "     NetRevenue  \n",
       "0        295000  \n",
       "1         85000  \n",
       "2         19800  \n",
       "3        157000  \n",
       "4        176000  \n",
       "..          ...  \n",
       "105      309500  \n",
       "106      306000  \n",
       "107        5000  \n",
       "108      299800  \n",
       "109      317000  \n",
       "\n",
       "[110 rows x 12 columns]"
      ]
     },
     "execution_count": 28,
     "metadata": {},
     "output_type": "execute_result"
    }
   ],
   "source": [
    "sales"
   ]
  },
  {
   "cell_type": "markdown",
   "id": "934b84c9-e450-4ec0-b24f-0ae0c0c657e7",
   "metadata": {},
   "source": [
    "# Which sales rep generated the highest total revenue?"
   ]
  },
  {
   "cell_type": "code",
   "execution_count": null,
   "id": "f83595da-58b5-4e93-967a-56af8a68a5c4",
   "metadata": {},
   "outputs": [],
   "source": [
    "sales_rep=sales.groupby('SalesRep')['Revenue'].sum().nlargest(1)\n",
    "sales_rep"
   ]
  },
  {
   "cell_type": "markdown",
   "id": "14a8a7bc-778d-4619-ab3e-eb5575dc545f",
   "metadata": {},
   "source": [
    "# Calculate total units sold by each sales rep."
   ]
  },
  {
   "cell_type": "code",
   "execution_count": null,
   "id": "4e0408ac-0eec-420f-be3e-6a11fe05a558",
   "metadata": {},
   "outputs": [],
   "source": [
    "sales_rep=sales.groupby(['SalesRep'])['UnitsSold'].sum().reset_index()\n",
    "sales_rep"
   ]
  },
  {
   "cell_type": "markdown",
   "id": "05a0cc85-ed8a-4ea8-9ad5-8428d2c213bd",
   "metadata": {},
   "source": [
    "# 17. Calculates revenue from Lagos only if the customer is \"New\". (New customers only)"
   ]
  },
  {
   "cell_type": "code",
   "execution_count": null,
   "id": "a73f1b29-00a1-4dbc-9ad4-4428548c15ef",
   "metadata": {},
   "outputs": [],
   "source": [
    "lagos_new = sales[(sales[\"City\"] == \"Lagos\") & (sales[\"CustomerType\"] == \"New\")]\n",
    "lagos_revenue=lagos_new['Revenue'].sum()\n",
    "lagos_revenue\n",
    "print(f\"the total revenue for lagos when new customers is ₦{lagos_revenue: ,.0f}\")\n",
    "\n"
   ]
  },
  {
   "cell_type": "markdown",
   "id": "7d541677-a7a9-4254-8c78-9ccaf09f6552",
   "metadata": {},
   "source": [
    " # Calculate the total revenue excluding transactions from Port Harcourt."
   ]
  },
  {
   "cell_type": "code",
   "execution_count": null,
   "id": "cef94a55-dddb-4bf2-a548-ac2e2b14f998",
   "metadata": {},
   "outputs": [],
   "source": [
    "not_ph = sales[sales[\"City\"] != \"Port Harcourt\"]\n",
    "\n",
    "\n",
    "## calculating for revenue\n",
    "not_ph_revenue=not_ph['Revenue'].sum()\n",
    "print(f\"the revenue when excluding port harcourt is ₦{not_ph_revenue:,.0f}\")\n"
   ]
  },
  {
   "cell_type": "markdown",
   "id": "157001e3-40b1-4cea-a44f-54c0a826696d",
   "metadata": {},
   "source": [
    "# Calculate average units sold per transaction."
   ]
  },
  {
   "cell_type": "code",
   "execution_count": null,
   "id": "10c4b68c-4bfe-4a27-926f-ebb94dbfa758",
   "metadata": {},
   "outputs": [],
   "source": [
    "sales.groupby(['TransactionID'])['UnitsSold'].mean().reset_index()"
   ]
  },
  {
   "cell_type": "markdown",
   "id": "e7712c5b-9347-47ff-baaa-1a870eca457f",
   "metadata": {},
   "source": [
    "# Calculate the total discount value across all sales"
   ]
  },
  {
   "cell_type": "code",
   "execution_count": null,
   "id": "c085582b-9bcf-4969-b7c1-02a4dda6a2ab",
   "metadata": {},
   "outputs": [],
   "source": [
    "discount=sales['Discount'].sum()\n",
    "print(f\"₦{discount:,.0f}\")"
   ]
  },
  {
   "cell_type": "code",
   "execution_count": null,
   "id": "7ee83cb2-f5f6-44d1-920a-f000485de1ea",
   "metadata": {},
   "outputs": [],
   "source": [
    "maxrev=sales['Revenue'].max()\n",
    "minrev=sales['Revenue'].min()\n",
    "avg_revenue=sales['Revenue'].mean()\n",
    "\n",
    "print(f\"₦{maxrev:,.0f}\")\n",
    "print(f\"₦{minrev:,.0f}\")\n",
    "print(f\"₦{avg_revenue:,.0f}\")\n",
    "\n"
   ]
  },
  {
   "cell_type": "markdown",
   "id": "0315c762-9631-4f69-889b-b639a0355706",
   "metadata": {},
   "source": [
    "# creating charts"
   ]
  },
  {
   "cell_type": "code",
   "execution_count": 39,
   "id": "2917f2d6-f468-4d1a-a5ac-358ad50c3f9f",
   "metadata": {},
   "outputs": [
    {
     "data": {
      "image/png": "[encoded data removed]",
      "text/plain": [
       "<Figure size 640x480 with 1 Axes>"
      ]
     },
     "metadata": {},
     "output_type": "display_data"
    }
   ],
   "source": [
    "## total revenue per cit\n",
    "city_revenue = sales.groupby(\"City\")[\"Revenue\"].sum()\n",
    "city_revenue.plot(kind=\"bar\", color=\"red\")\n",
    "plt.title(\"Total Revenue by City\")\n",
    "plt.xlabel(\"City\")\n",
    "plt.ylabel(\"Revenue (₦)\")\n",
    "plt.xticks(rotation=45)\n",
    "plt.tight_layout()\n",
    "plt.show()"
   ]
  },
  {
   "cell_type": "code",
   "execution_count": 38,
   "id": "a8cf5336-e36f-407f-95db-027dc3ec9eea",
   "metadata": {},
   "outputs": [
    {
     "data": {
      "image/png": "[encoded data removed]",
      "text/plain": [
       "<Figure size 640x480 with 1 Axes>"
      ]
     },
     "metadata": {},
     "output_type": "display_data"
    }
   ],
   "source": [
    "customer_revenue = sales.groupby(\"CustomerType\")[\"Revenue\"].sum()\n",
    "customer_revenue.plot(kind=\"pie\", autopct=\"%.1f%%\", startangle=90)\n",
    "plt.title(\"Revenue Split: New vs Returning Customers\")\n",
    "plt.ylabel(\"\")\n",
    "plt.show()"
   ]
  },
  {
   "cell_type": "code",
   "execution_count": 36,
   "id": "c33c1d16-8507-4d00-b451-6b0fbe6285db",
   "metadata": {},
   "outputs": [
    {
     "data": {
      "image/png": "[encoded data removed]",
      "text/plain": [
       "<Figure size 640x480 with 1 Axes>"
      ]
     },
     "metadata": {},
     "output_type": "display_data"
    }
   ],
   "source": [
    "category_revenue = sales.groupby(\"Category\")[\"Revenue\"].sum().sort_values(ascending=False)\n",
    "category_revenue.plot(kind=\"bar\", color=\"orange\")\n",
    "plt.title(\"Top Product Categories by Revenue\")\n",
    "plt.xlabel(\"Category\")\n",
    "plt.ylabel(\"Revenue (₦)\")\n",
    "plt.xticks(rotation=45)\n",
    "plt.tight_layout()\n",
    "plt.show()"
   ]
  },
  {
   "cell_type": "code",
   "execution_count": 35,
   "id": "1bbb5c99-3616-4255-ac1e-1d284e9f1704",
   "metadata": {},
   "outputs": [
    {
     "data": {
      "image/png": "[encoded data removed]",
      "text/plain": [
       "<Figure size 640x480 with 1 Axes>"
      ]
     },
     "metadata": {},
     "output_type": "display_data"
    }
   ],
   "source": [
    "rep_revenue = sales.groupby(\"SalesRep\")[\"Revenue\"].sum().sort_values(ascending=True)\n",
    "rep_revenue.plot(kind=\"barh\", color=\"grey\")\n",
    "plt.title(\"Sales Rep Performance (by Revenue)\")\n",
    "plt.xlabel(\"Revenue (₦)\")\n",
    "\n",
    "plt.ylabel(\"Sales Representative\")\n",
    "plt.tight_layout()\n",
    "plt.show()\n"
   ]
  },
  {
   "cell_type": "code",
   "execution_count": 34,
   "id": "ec52b86b-8a4f-400d-9ebf-4cf5199331e0",
   "metadata": {},
   "outputs": [
    {
     "data": {
      "image/png": "[encoded data removed]",
      "text/plain": [
       "<Figure size 640x480 with 1 Axes>"
      ]
     },
     "metadata": {},
     "output_type": "display_data"
    }
   ],
   "source": [
    "avg_revenue_city = sales.groupby(\"City\")[\"Revenue\"].mean()\n",
    "avg_revenue_city.plot(kind=\"bar\", color=\"teal\")\n",
    "plt.title(\"Average Revenue per Customer by City\")\n",
    "plt.xlabel(\"City\")\n",
    "plt.ylabel(\"Average Revenue (₦)\")\n",
    "plt.xticks(rotation=45)\n",
    "plt.tight_layout()\n",
    "plt.show()"
   ]
  },
  {
   "cell_type": "code",
   "execution_count": 40,
   "id": "96d96e7e-b2b3-477c-96a4-a7d38feff8f2",
   "metadata": {},
   "outputs": [
    {
     "data": {
      "text/plain": [
       "np.float64(268372.7272727273)"
      ]
     },
     "execution_count": 40,
     "metadata": {},
     "output_type": "execute_result"
    }
   ],
   "source": [
    "sales['Revenue'].mean()\n",
    "\n"
   ]
  },
  {
   "cell_type": "code",
   "execution_count": 41,
   "id": "1828bb5e-f22b-4d4f-9088-26046052f7e8",
   "metadata": {},
   "outputs": [
    {
     "data": {
      "text/plain": [
       "0       True\n",
       "1      False\n",
       "2      False\n",
       "3       True\n",
       "4      False\n",
       "       ...  \n",
       "105     True\n",
       "106    False\n",
       "107    False\n",
       "108    False\n",
       "109     True\n",
       "Name: City, Length: 110, dtype: bool"
      ]
     },
     "execution_count": 41,
     "metadata": {},
     "output_type": "execute_result"
    }
   ],
   "source": [
    "sales['City'].str.contains('gos')  ## this searches for somethinggg"
   ]
  },
  {
   "cell_type": "code",
   "execution_count": 42,
   "id": "ccfd2436-7aca-4c1a-91dd-b0364e0d82ca",
   "metadata": {},
   "outputs": [
    {
     "data": {
      "text/plain": [
       "0              Lagos\n",
       "1              Abuja\n",
       "2      Port harcourt\n",
       "3              Lagos\n",
       "4               Kano\n",
       "           ...      \n",
       "105            Lagos\n",
       "106    Port harcourt\n",
       "107    Port harcourt\n",
       "108             Kano\n",
       "109            Lagos\n",
       "Name: City, Length: 110, dtype: object"
      ]
     },
     "execution_count": 42,
     "metadata": {},
     "output_type": "execute_result"
    }
   ],
   "source": [
    "sales['City'].str.capitalize()"
   ]
  },
  {
   "cell_type": "code",
   "execution_count": 43,
   "id": "048b2b3c-3717-437c-ad08-7075e6b32f61",
   "metadata": {},
   "outputs": [
    {
     "data": {
      "text/plain": [
       "Category     City         \n",
       "Accessories  Abuja             7\n",
       "             Kano              7\n",
       "             Lagos             7\n",
       "             Port Harcourt    17\n",
       "Appliances   Abuja             9\n",
       "             Kano             10\n",
       "             Lagos             8\n",
       "             Port Harcourt     6\n",
       "Electronics  Abuja             4\n",
       "             Kano             12\n",
       "             Lagos            13\n",
       "             Port Harcourt    10\n",
       "Name: UnitsSold, dtype: int64"
      ]
     },
     "execution_count": 43,
     "metadata": {},
     "output_type": "execute_result"
    }
   ],
   "source": [
    "acc=sales.groupby(['Category','City'])['UnitsSold'].count()\n",
    "acc"
   ]
  },
  {
   "cell_type": "code",
   "execution_count": 33,
   "id": "53593ed6-cc8f-42a9-bb87-e9e306a2917c",
   "metadata": {},
   "outputs": [
    {
     "name": "stdout",
     "output_type": "stream",
     "text": [
      "kano: ₦8,942,000\n"
     ]
    }
   ],
   "source": [
    "revenue_Kano = sales[sales['City'] == 'Kano']['Revenue'].sum()\n",
    "print(f\"kano: ₦{revenue_Kano:,.0f}\")"
   ]
  },
  {
   "cell_type": "code",
   "execution_count": 48,
   "id": "fc64f62f-9c3b-47d1-bb00-fc144ea0c95e",
   "metadata": {},
   "outputs": [
    {
     "data": {
      "text/html": [
       "<div>\n",
       "<style scoped>\n",
       "    .dataframe tbody tr th:only-of-type {\n",
       "        vertical-align: middle;\n",
       "    }\n",
       "\n",
       "    .dataframe tbody tr th {\n",
       "        vertical-align: top;\n",
       "    }\n",
       "\n",
       "    .dataframe thead th {\n",
       "        text-align: right;\n",
       "    }\n",
       "</style>\n",
       "<table border=\"1\" class=\"dataframe\">\n",
       "  <thead>\n",
       "    <tr style=\"text-align: right;\">\n",
       "      <th></th>\n",
       "      <th>City</th>\n",
       "      <th>Category</th>\n",
       "      <th>Revenue</th>\n",
       "    </tr>\n",
       "  </thead>\n",
       "  <tbody>\n",
       "    <tr>\n",
       "      <th>0</th>\n",
       "      <td>Abuja</td>\n",
       "      <td>Accessories</td>\n",
       "      <td>139500</td>\n",
       "    </tr>\n",
       "    <tr>\n",
       "      <th>1</th>\n",
       "      <td>Abuja</td>\n",
       "      <td>Appliances</td>\n",
       "      <td>2117000</td>\n",
       "    </tr>\n",
       "    <tr>\n",
       "      <th>2</th>\n",
       "      <td>Abuja</td>\n",
       "      <td>Electronics</td>\n",
       "      <td>2075000</td>\n",
       "    </tr>\n",
       "    <tr>\n",
       "      <th>3</th>\n",
       "      <td>Kano</td>\n",
       "      <td>Accessories</td>\n",
       "      <td>129000</td>\n",
       "    </tr>\n",
       "    <tr>\n",
       "      <th>4</th>\n",
       "      <td>Kano</td>\n",
       "      <td>Appliances</td>\n",
       "      <td>3201000</td>\n",
       "    </tr>\n",
       "    <tr>\n",
       "      <th>5</th>\n",
       "      <td>Kano</td>\n",
       "      <td>Electronics</td>\n",
       "      <td>5612000</td>\n",
       "    </tr>\n",
       "    <tr>\n",
       "      <th>6</th>\n",
       "      <td>Lagos</td>\n",
       "      <td>Accessories</td>\n",
       "      <td>166500</td>\n",
       "    </tr>\n",
       "    <tr>\n",
       "      <th>7</th>\n",
       "      <td>Lagos</td>\n",
       "      <td>Appliances</td>\n",
       "      <td>2827000</td>\n",
       "    </tr>\n",
       "    <tr>\n",
       "      <th>8</th>\n",
       "      <td>Lagos</td>\n",
       "      <td>Electronics</td>\n",
       "      <td>6292000</td>\n",
       "    </tr>\n",
       "    <tr>\n",
       "      <th>9</th>\n",
       "      <td>Port Harcourt</td>\n",
       "      <td>Accessories</td>\n",
       "      <td>314000</td>\n",
       "    </tr>\n",
       "    <tr>\n",
       "      <th>10</th>\n",
       "      <td>Port Harcourt</td>\n",
       "      <td>Appliances</td>\n",
       "      <td>1478000</td>\n",
       "    </tr>\n",
       "    <tr>\n",
       "      <th>11</th>\n",
       "      <td>Port Harcourt</td>\n",
       "      <td>Electronics</td>\n",
       "      <td>5170000</td>\n",
       "    </tr>\n",
       "  </tbody>\n",
       "</table>\n",
       "</div>"
      ],
      "text/plain": [
       "             City     Category  Revenue\n",
       "0           Abuja  Accessories   139500\n",
       "1           Abuja   Appliances  2117000\n",
       "2           Abuja  Electronics  2075000\n",
       "3            Kano  Accessories   129000\n",
       "4            Kano   Appliances  3201000\n",
       "5            Kano  Electronics  5612000\n",
       "6           Lagos  Accessories   166500\n",
       "7           Lagos   Appliances  2827000\n",
       "8           Lagos  Electronics  6292000\n",
       "9   Port Harcourt  Accessories   314000\n",
       "10  Port Harcourt   Appliances  1478000\n",
       "11  Port Harcourt  Electronics  5170000"
      ]
     },
     "execution_count": 48,
     "metadata": {},
     "output_type": "execute_result"
    }
   ],
   "source": [
    "city_category_summary= sales.groupby([\"City\", \"Category\"])[\"Revenue\"].sum().reset_index()\n",
    "city_category_summary   ## to understand city vs category\n",
    "\n"
   ]
  }
 ],
 "metadata": {
  "kernelspec": {
   "display_name": "Python [conda env:base] *",
   "language": "python",
   "name": "conda-base-py"
  },
  "language_info": {
   "codemirror_mode": {
    "name": "ipython",
    "version": 3
   },
   "file_extension": ".py",
   "mimetype": "text/x-python",
   "name": "python",
   "nbconvert_exporter": "python",
   "pygments_lexer": "ipython3",
   "version": "3.13.5"
  }
 },
 "nbformat": 4,
 "nbformat_minor": 5
}
